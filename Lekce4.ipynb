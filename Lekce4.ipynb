{
 "cells": [
  {
   "cell_type": "code",
   "execution_count": 3,
   "metadata": {},
   "outputs": [
    {
     "name": "stdout",
     "output_type": "stream",
     "text": [
      "('b', 'd')\n"
     ]
    }
   ],
   "source": [
    "abeceda = 'a', 'b', 'c', 'd', 'e'\n",
    "\n",
    "print(abeceda[1::2])"
   ]
  },
  {
   "cell_type": "code",
   "execution_count": 28,
   "metadata": {},
   "outputs": [
    {
     "name": "stdout",
     "output_type": "stream",
     "text": [
      "'POZOR!',\n",
      "POZOR\n",
      "Díky bohu, značka byla napsaná kapitálkama\n"
     ]
    }
   ],
   "source": [
    "# Zadany string\n",
    "muj_string = \"Kdyby si Bruno nevšiml značky 'POZOR!', narazil by do zdi\"\n",
    "\n",
    "# Rozdel string do sekvence\n",
    "muj_list = muj_string.split()\n",
    "\n",
    "# Ziskej paty prvek\n",
    "paty_prvek = muj_list[5]\n",
    "print(paty_prvek)\n",
    "# Ocisti paty prvek\n",
    "cisty_paty_prvek = paty_prvek.strip(\"'!,\")\n",
    "print(cisty_paty_prvek)\n",
    "\n",
    "# Over kapitalky promenne 'cisty_paty_prvek' - napis podminku za if a ukonci radek dvojteckou\n",
    "if cisty_paty_prvek.isupper():\n",
    "\tprint('Díky bohu, značka byla napsaná kapitálkama')\n",
    "else:\n",
    "    print('Bruno značku viděl, i když nebyla napsaná kapitálkama')"
   ]
  },
  {
   "cell_type": "code",
   "execution_count": 40,
   "metadata": {},
   "outputs": [
    {
     "name": "stdout",
     "output_type": "stream",
     "text": [
      "Skvělá práce, v metodách listů jsi přeborník!\n"
     ]
    }
   ],
   "source": [
    "# List zeleniny\n",
    "zelenina = ['brokolice', 'petrzel', 'celer', 'redkev', 'rajce', 'petrzel', \n",
    "                'okurka', 'salat', 'cervena_repa', 'paprika', 'petrzel']\n",
    "\n",
    "# Zjisti pocet pro 'petrzel'\n",
    "pocet_Petr = zelenina.count('petrzel')\n",
    "\n",
    "# Zjisti index pro 'rajce'\n",
    "rajce_Index = zelenina.index('rajce')\n",
    "\n",
    "# 'zelenina' bez 'okurka'\n",
    "zelenina.remove('okurka')\n",
    "\n",
    "# ZDE NIC NEPIS. Jde o kontrolu tveho zapisu :)\n",
    "if pocet_Petr == 3 and rajce_Index == 4 and 'okurka' not in zelenina:\n",
    "\tprint('Skvělá práce, v metodách listů jsi přeborník!')\n",
    "else:\n",
    "\tprint('Ještě si to jednou projdi, někde se vloudila chybka :(\\nPokud si nejsi jistý, mrkni ještě jednou na tabulku s metodami')"
   ]
  },
  {
   "cell_type": "code",
   "execution_count": 42,
   "metadata": {},
   "outputs": [
    {
     "name": "stdout",
     "output_type": "stream",
     "text": [
      "10\n",
      "9\n",
      "8\n",
      "7\n",
      "6\n",
      "5\n",
      "4\n",
      "3\n",
      "2\n",
      "1\n",
      "Šťastný nový rok!\n"
     ]
    }
   ],
   "source": [
    "cislo = 10\n",
    "while cislo: \n",
    "    print(cislo)\n",
    "    cislo = cislo - 1\n",
    "print('Šťastný nový rok!')"
   ]
  },
  {
   "cell_type": "code",
   "execution_count": 44,
   "metadata": {},
   "outputs": [
    {
     "name": "stdout",
     "output_type": "stream",
     "text": [
      "Našel jsem velké písmeno: M\n",
      "Našel jsem velké písmeno: K\n"
     ]
    }
   ],
   "source": [
    "muj_string = 'while smyčky Můžou být neKonečné'\n",
    "while muj_string: \n",
    "    if muj_string[0].isupper():\n",
    "        print('Našel jsem velké písmeno:',muj_string[0])\n",
    "    muj_string = muj_string[1:]"
   ]
  }
 ],
 "metadata": {
  "kernelspec": {
   "display_name": "Python 3",
   "language": "python",
   "name": "python3"
  },
  "language_info": {
   "codemirror_mode": {
    "name": "ipython",
    "version": 3
   },
   "file_extension": ".py",
   "mimetype": "text/x-python",
   "name": "python",
   "nbconvert_exporter": "python",
   "pygments_lexer": "ipython3",
   "version": "3.7.4"
  }
 },
 "nbformat": 4,
 "nbformat_minor": 4
}
