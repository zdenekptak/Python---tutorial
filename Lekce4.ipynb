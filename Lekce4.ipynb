{
 "cells": [
  {
   "cell_type": "code",
   "execution_count": null,
   "metadata": {},
   "outputs": [],
   "source": [
    "abeceda = 'a', 'b', 'c', 'd', 'e'\n",
    "\n",
    "print(abeceda[1::2])"
   ]
  },
  {
   "cell_type": "code",
   "execution_count": null,
   "metadata": {},
   "outputs": [],
   "source": [
    "# Zadany string\n",
    "muj_string = \"Kdyby si Bruno nevšiml značky 'POZOR!', narazil by do zdi\"\n",
    "\n",
    "# Rozdel string do sekvence\n",
    "muj_list = muj_string.split()\n",
    "\n",
    "# Ziskej paty prvek\n",
    "paty_prvek = muj_list[5]\n",
    "print(paty_prvek)\n",
    "# Ocisti paty prvek\n",
    "cisty_paty_prvek = paty_prvek.strip(\"'!,\")\n",
    "print(cisty_paty_prvek)\n",
    "\n",
    "# Over kapitalky promenne 'cisty_paty_prvek' - napis podminku za if a ukonci radek dvojteckou\n",
    "if cisty_paty_prvek.isupper():\n",
    "    print('Díky bohu, značka byla napsaná kapitálkama')\n",
    "else:\n",
    "    print('Bruno značku viděl, i když nebyla napsaná kapitálkama')"
   ]
  },
  {
   "cell_type": "code",
   "execution_count": null,
   "metadata": {},
   "outputs": [],
   "source": [
    "# List zeleniny\n",
    "zelenina = ['brokolice', 'petrzel', 'celer', 'redkev', 'rajce', 'petrzel', \n",
    "                'okurka', 'salat', 'cervena_repa', 'paprika', 'petrzel']\n",
    "\n",
    "# Zjisti pocet pro 'petrzel'\n",
    "pocet_Petr = zelenina.count('petrzel')\n",
    "\n",
    "# Zjisti index pro 'rajce'\n",
    "rajce_Index = zelenina.index('rajce')\n",
    "\n",
    "# 'zelenina' bez 'okurka'\n",
    "zelenina.remove('okurka')\n",
    "\n",
    "# ZDE NIC NEPIS. Jde o kontrolu tveho zapisu :)\n",
    "if pocet_Petr == 3 and rajce_Index == 4 and 'okurka' not in zelenina:\n",
    "\tprint('Skvělá práce, v metodách listů jsi přeborník!')\n",
    "else:\n",
    "\tprint('Ještě si to jednou projdi, někde se vloudila chybka :(\\nPokud si nejsi jistý, mrkni ještě jednou na tabulku s metodami')"
   ]
  },
  {
   "cell_type": "code",
   "execution_count": null,
   "metadata": {},
   "outputs": [],
   "source": [
    "cislo = 10\n",
    "while cislo: \n",
    "    print(cislo)\n",
    "    cislo = cislo - 1\n",
    "print('Šťastný nový rok!')"
   ]
  },
  {
   "cell_type": "code",
   "execution_count": null,
   "metadata": {},
   "outputs": [],
   "source": [
    "muj_string = 'while smyčky Můžou být neKonečné'\n",
    "while muj_string: \n",
    "    if muj_string[0].isupper():\n",
    "        print('Našel jsem velké písmeno:',muj_string[0])\n",
    "    muj_string = muj_string[1:]"
   ]
  },
  {
   "cell_type": "code",
   "execution_count": null,
   "metadata": {},
   "outputs": [],
   "source": [
    "cisla = [ 386, 462, 47, 418, 907, 344, 236, 375, 823,\n",
    "        566, 597, 978, 328, 615, 953, 345, 399, 162,\n",
    "        758, 219, 918, 237, 412, 566, 826, 248, 866,\n",
    "        950, 626, 949, 687, 217, 815, 67, 104, 58, 512,\n",
    "        24, 892, 894, 767, 553, 81, 379, 843, 831, 445,\n",
    "        742, 717, 958,743, 527]\n",
    "\n",
    "sude=0\n",
    "liche=0\n",
    "\n",
    "for cislo in cisla:\n",
    "    if cislo % 2 == 0:\n",
    "        sude = sude + cislo\n",
    "    else:\n",
    "        liche = liche + cislo\n",
    "\n",
    "obsolutniHodnota = abs(sude - liche)      "
   ]
  },
  {
   "cell_type": "code",
   "execution_count": null,
   "metadata": {},
   "outputs": [],
   "source": [
    "obsolutniHodnota"
   ]
  },
  {
   "cell_type": "code",
   "execution_count": 3,
   "metadata": {},
   "outputs": [
    {
     "name": "stdout",
     "output_type": "stream",
     "text": [
      "Ahoj, vitej v kalkulcce\n"
     ]
    },
    {
     "name": "stdin",
     "output_type": "stream",
     "text": [
      "Zadej prvni cislo:  10\n",
      "Zadej druhe cislo:  2\n",
      "Zadej operaci ktera se ma provest:\n",
      "    \n",
      "    scitani - \"+\",\n",
      "    odecitani - \"-\",\n",
      "    nasobeni - \"*\",\n",
      "    deleni - \"/\",\n",
      "    ukonceni kaklulacky - \"off\"\n",
      "    \n",
      "     *\n"
     ]
    },
    {
     "name": "stdout",
     "output_type": "stream",
     "text": [
      "Vysledek je: 20\n"
     ]
    },
    {
     "name": "stdin",
     "output_type": "stream",
     "text": [
      "Zadej prvni cislo:  5\n",
      "Zadej druhe cislo:  5\n",
      "Zadej operaci ktera se ma provest:\n",
      "    \n",
      "    scitani - \"+\",\n",
      "    odecitani - \"-\",\n",
      "    nasobeni - \"*\",\n",
      "    deleni - \"/\",\n",
      "    ukonceni kaklulacky - \"off\"\n",
      "    \n",
      "     off\n"
     ]
    },
    {
     "name": "stdout",
     "output_type": "stream",
     "text": [
      "Kalkulacka vypnuta\n"
     ]
    }
   ],
   "source": [
    "# Pozdrav uživatele a umožni mu zapsat dvě vstupní proměnné\n",
    "print(\"Ahoj, vitej v kalkulcce\")\n",
    "\n",
    "\n",
    "# Zapiš nekonečnou smyčku\n",
    "mod = True\n",
    "while mod == True:\n",
    "    cislo01 = int(input(\"Zadej prvni cislo: \"))\n",
    "    cislo02 = int(input(\"Zadej druhe cislo: \"))\n",
    "# Vypiš jaké operace může uživatel provádět a možnost zapsat input()\n",
    "    operace = input(\"\"\"Zadej operaci ktera se ma provest:\n",
    "    \n",
    "    scitani - \"+\",\n",
    "    odecitani - \"-\",\n",
    "    nasobeni - \"*\",\n",
    "    deleni - \"/\",\n",
    "    ukonceni kaklulacky - \"off\"\n",
    "    \n",
    "    \"\"\")\n",
    "    if operace == \"+\":\n",
    "        vysledek = cislo01 + cislo02\n",
    "        print(f\"Vysledek je: {vysledek}\")\n",
    "    elif operace == \"-\":\n",
    "        vysledek = cislo01 - cislo02\n",
    "        print(f\"Vysledek je: {vysledek}\")\n",
    "    elif operace == \"*\":\n",
    "        vysledek = cislo01 * cislo02\n",
    "        print(f\"Vysledek je: {vysledek}\")\n",
    "    elif operace == \"/\":\n",
    "        vysledek = cislo01 / cislo02\n",
    "        print(f\"Vysledek je: {vysledek}\")\n",
    "    else:\n",
    "        mod = False\n",
    "        print(\"Kalkulacka vypnuta\")\n",
    "\n",
    "# Sem zapiš podmínky, které spojí tebou nabízené operace a následný print() výsledku"
   ]
  },
  {
   "cell_type": "code",
   "execution_count": 7,
   "metadata": {},
   "outputs": [
    {
     "name": "stdout",
     "output_type": "stream",
     "text": [
      "Klíč: name - hodnota: Forrest Gump\n",
      "Klíč: made - hodnota: 1994\n",
      "Klíč: director - hodnota: Robert Zemeckis\n",
      "Klíč: soundtrack - hodnota: Multiple\n",
      "Klíč: starring - hodnota: Tom Hanks\n",
      "Klíč: fun_fact - hodnota: The house used in Forrest Gump is the same house used in The Patriot (2000). Some paneling was changed for interior shots  in the latter film.\n"
     ]
    }
   ],
   "source": [
    "film = {'name':'Forrest Gump',\n",
    "        'made':1994,\n",
    "        'director':'Robert Zemeckis',\n",
    "        'soundtrack':'Multiple',\n",
    "        'starring':'Tom Hanks',\n",
    "        'fun_fact':'''The house used in Forrest Gump is the same house used in The Patriot (2000). Some paneling was changed for interior shots  in the latter film.'''}\n",
    "\n",
    "\n",
    "for k, v in film.items():\n",
    "    print(f\"Klíč: {k} - hodnota: {v}\")"
   ]
  },
  {
   "cell_type": "code",
   "execution_count": 11,
   "metadata": {},
   "outputs": [
    {
     "name": "stdout",
     "output_type": "stream",
     "text": [
      "Klíč: fun_fact - hodnota: The house used in Forrest Gump is the same house used in The Patriot (2000). Some paneling was changed for interior shots  in the latter film.\n",
      "Klíč: starring - hodnota: Tom Hanks\n",
      "Klíč: soundtrack - hodnota: Multiple\n",
      "Klíč: director - hodnota: Robert Zemeckis\n",
      "Klíč: made - hodnota: 1994\n",
      "Klíč: name - hodnota: Forrest Gump\n"
     ]
    }
   ],
   "source": [
    "film = {'name':'Forrest Gump',\n",
    "        'made':1994,\n",
    "        'director':'Robert Zemeckis',\n",
    "        'soundtrack':'Multiple',\n",
    "        'starring':'Tom Hanks',\n",
    "        'fun_fact':'''The house used in Forrest Gump is the same house used in The Patriot (2000). Some paneling was changed for interior shots  in the latter film.'''}\n",
    "\n",
    "while film:\n",
    "    info = film.popitem()\n",
    "    print(f\"Klíč: {info[0]} - hodnota: {info[1]}\")"
   ]
  },
  {
   "cell_type": "code",
   "execution_count": 2,
   "metadata": {},
   "outputs": [
    {
     "ename": "TypeError",
     "evalue": "cannot convert dictionary update sequence element #0 to a sequence",
     "output_type": "error",
     "traceback": [
      "\u001b[1;31m---------------------------------------------------------------------------\u001b[0m",
      "\u001b[1;31mTypeError\u001b[0m                                 Traceback (most recent call last)",
      "\u001b[1;32m<ipython-input-2-f15d938c0345>\u001b[0m in \u001b[0;36m<module>\u001b[1;34m\u001b[0m\n\u001b[1;32m----> 1\u001b[1;33m \u001b[0mdict\u001b[0m\u001b[1;33m(\u001b[0m\u001b[1;33m[\u001b[0m\u001b[1;36m1\u001b[0m\u001b[1;33m,\u001b[0m\u001b[1;36m1\u001b[0m\u001b[1;33m]\u001b[0m\u001b[1;33m)\u001b[0m\u001b[1;33m\u001b[0m\u001b[1;33m\u001b[0m\u001b[0m\n\u001b[0m",
      "\u001b[1;31mTypeError\u001b[0m: cannot convert dictionary update sequence element #0 to a sequence"
     ]
    }
   ],
   "source": [
    "dict([1,1])"
   ]
  },
  {
   "cell_type": "code",
   "execution_count": 3,
   "metadata": {},
   "outputs": [
    {
     "data": {
      "text/plain": [
       "{}"
      ]
     },
     "execution_count": 3,
     "metadata": {},
     "output_type": "execute_result"
    }
   ],
   "source": [
    "dict()"
   ]
  },
  {
   "cell_type": "code",
   "execution_count": 4,
   "metadata": {},
   "outputs": [
    {
     "data": {
      "text/plain": [
       "{'name': 'Bob', 'age': 65}"
      ]
     },
     "execution_count": 4,
     "metadata": {},
     "output_type": "execute_result"
    }
   ],
   "source": [
    "dict((('name','Bob'), ('age',65)))"
   ]
  },
  {
   "cell_type": "code",
   "execution_count": 5,
   "metadata": {},
   "outputs": [
    {
     "data": {
      "text/plain": [
       "{}"
      ]
     },
     "execution_count": 5,
     "metadata": {},
     "output_type": "execute_result"
    }
   ],
   "source": [
    "dict(list())"
   ]
  },
  {
   "cell_type": "code",
   "execution_count": null,
   "metadata": {},
   "outputs": [],
   "source": []
  }
 ],
 "metadata": {
  "kernelspec": {
   "display_name": "Python 3",
   "language": "python",
   "name": "python3"
  },
  "language_info": {
   "codemirror_mode": {
    "name": "ipython",
    "version": 3
   },
   "file_extension": ".py",
   "mimetype": "text/x-python",
   "name": "python",
   "nbconvert_exporter": "python",
   "pygments_lexer": "ipython3",
   "version": "3.8.0"
  }
 },
 "nbformat": 4,
 "nbformat_minor": 4
}
