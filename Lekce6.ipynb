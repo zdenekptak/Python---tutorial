{
 "cells": [
  {
   "cell_type": "code",
   "execution_count": 1,
   "metadata": {},
   "outputs": [
    {
     "name": "stdout",
     "output_type": "stream",
     "text": [
      "<class 'int'>\n"
     ]
    }
   ],
   "source": [
    "# Vytvoreni promenne a prirazeni celeho cisla '1'\n",
    "cislo = 1\n",
    "\n",
    "# Zjistovani dane 'class'\n",
    "print( type(cislo) )"
   ]
  },
  {
   "cell_type": "code",
   "execution_count": 1,
   "metadata": {},
   "outputs": [
    {
     "name": "stdout",
     "output_type": "stream",
     "text": [
      "[0, 1, 2, 3, 4, 5, 6, 7, 8, 9]\n"
     ]
    }
   ],
   "source": [
    "print(list(range(10)))"
   ]
  },
  {
   "cell_type": "code",
   "execution_count": 2,
   "metadata": {},
   "outputs": [
    {
     "name": "stdout",
     "output_type": "stream",
     "text": [
      "(0, 1, 2, 3, 4, 5, 6, 7, 8, 9)\n"
     ]
    }
   ],
   "source": [
    "print(tuple(range(10)))"
   ]
  },
  {
   "cell_type": "code",
   "execution_count": 11,
   "metadata": {},
   "outputs": [
    {
     "name": "stdout",
     "output_type": "stream",
     "text": [
      "[0, 1, 2, 3, 4, 5, 6, 7, 8, 9, 10, 11, 12, 13, 14, 15, 16, 17, 18, 19]\n",
      "[15, 16, 17, 18, 19]\n",
      "[10, 13, 16, 19]\n"
     ]
    },
    {
     "data": {
      "text/plain": [
       "[5, 10, 15, 20, 25, 30, 35, 40, 45, 50, 55, 60, 65, 70, 75, 80, 85, 90, 95]"
      ]
     },
     "execution_count": 11,
     "metadata": {},
     "output_type": "execute_result"
    }
   ],
   "source": [
    "# Kazdy prvek rozmezi 0-19\n",
    "print(list(range(20)))\n",
    "\n",
    "# Kazdy prvek rozmezi 15-19\n",
    "print(list(range(15,20)))\n",
    "\n",
    "\n",
    "# Kazdy treti prvek rozmezi 10-19\n",
    "print(list(range(10,20,3)))\n",
    "\n",
    "\n",
    "# Promenna nums\n",
    "num5=[]\n",
    "nums = list(range(1,100))\n",
    "for n in nums:\n",
    "    if n%5==0:\n",
    "        num5.append(n)\n",
    "# Tisk promenne nums\n",
    "num5"
   ]
  },
  {
   "cell_type": "code",
   "execution_count": 17,
   "metadata": {},
   "outputs": [
    {
     "name": "stdout",
     "output_type": "stream",
     "text": [
      "range(2, 6)\n",
      "[2, 3, 4, 5]\n",
      "[0, 3, 6, 9]\n"
     ]
    }
   ],
   "source": [
    "# Ziskani slicu z range\n",
    "print(range(10)[2:6])\n",
    "# Ziskani slicu z range\n",
    "print(list(range(10)[2:6]))\n",
    "# Ziskani kazdeho 3 prvku\n",
    "print(list(range(10)[::3]))"
   ]
  },
  {
   "cell_type": "code",
   "execution_count": 19,
   "metadata": {},
   "outputs": [
    {
     "name": "stdout",
     "output_type": "stream",
     "text": [
      "True\n",
      "False\n"
     ]
    }
   ],
   "source": [
    "# Membership test\n",
    "print(6 in range(10))\n",
    "# Membership test\n",
    "print(6.2 in range(10))"
   ]
  },
  {
   "cell_type": "code",
   "execution_count": 20,
   "metadata": {},
   "outputs": [
    {
     "name": "stdout",
     "output_type": "stream",
     "text": [
      "pYTHON\n"
     ]
    }
   ],
   "source": [
    "# Vytvoreni prazdneho stringu pro ukladani\n",
    "konvertovane_slovo = ''\n",
    "# Hlavicka smycky for\n",
    "for znak in 'Python':\n",
    "    # Podminky\n",
    "    if znak.isupper():\n",
    "        konvertovane_slovo = konvertovane_slovo + znak.lower()\n",
    "    else:\n",
    "        konvertovane_slovo = konvertovane_slovo + znak.upper()\n",
    "# Tisk vysledku\n",
    "print(konvertovane_slovo)"
   ]
  },
  {
   "cell_type": "code",
   "execution_count": 21,
   "metadata": {},
   "outputs": [
    {
     "name": "stdout",
     "output_type": "stream",
     "text": [
      "H\n",
      "e\n",
      "l\n",
      "l\n",
      "o\n",
      " \n",
      "W\n",
      "o\n",
      "r\n",
      "l\n",
      "d\n"
     ]
    }
   ],
   "source": [
    "muj_str = 'Hello World'\n",
    "for i in range(len(muj_str)):\n",
    "    print(muj_str[i])"
   ]
  },
  {
   "cell_type": "code",
   "execution_count": 22,
   "metadata": {},
   "outputs": [
    {
     "name": "stdout",
     "output_type": "stream",
     "text": [
      "Věk : 43\n",
      "Jméno : John\n",
      "Příjmení : Smith\n"
     ]
    }
   ],
   "source": [
    "data = (('Věk',43),('Jméno','John'),('Příjmení','Smith'))\n",
    "for kategorie, hodnota in data:\n",
    "    print(kategorie, ':', hodnota)"
   ]
  },
  {
   "cell_type": "code",
   "execution_count": 23,
   "metadata": {},
   "outputs": [
    {
     "name": "stdout",
     "output_type": "stream",
     "text": [
      "Věk : 43 : True\n",
      "Jméno : John : True\n",
      "Příjmení : Smith : False\n"
     ]
    }
   ],
   "source": [
    "# Zadani tuplu\n",
    "data = (('Věk',43,True),('Jméno','John',True),('Příjmení','Smith',False))\n",
    "\n",
    "# For loop\n",
    "for kategorie, hodnota, pravda in data:\n",
    "    print(kategorie, ':', hodnota, ':', pravda)"
   ]
  },
  {
   "cell_type": "code",
   "execution_count": 30,
   "metadata": {},
   "outputs": [
    {
     "name": "stdout",
     "output_type": "stream",
     "text": [
      "Jméno\n",
      "Příjmení\n",
      "Věk\n"
     ]
    }
   ],
   "source": [
    "zamestnanci = {'Jméno': 'John', 'Příjmení': 'Smith', 'Věk': 43}\n",
    "# For loop\n",
    "for klic in zamestnanci.keys():\n",
    "    print(klic)"
   ]
  },
  {
   "cell_type": "code",
   "execution_count": 29,
   "metadata": {},
   "outputs": [
    {
     "name": "stdout",
     "output_type": "stream",
     "text": [
      "John\n",
      "Smith\n",
      "43\n"
     ]
    }
   ],
   "source": [
    "zamestnanci = {'Jméno': 'John', 'Příjmení': 'Smith', 'Věk': 43}\n",
    "# For loop\n",
    "for klic in zamestnanci.values():\n",
    "    print(klic)"
   ]
  },
  {
   "cell_type": "code",
   "execution_count": 37,
   "metadata": {},
   "outputs": [
    {
     "name": "stdout",
     "output_type": "stream",
     "text": [
      "nohtyP"
     ]
    }
   ],
   "source": [
    "# Promenna\n",
    "muj_str = 'Python'\n",
    "# For loop\n",
    "for znak in reversed(muj_str):\n",
    "    print(znak, end='')\n"
   ]
  },
  {
   "cell_type": "code",
   "execution_count": 38,
   "metadata": {},
   "outputs": [
    {
     "name": "stdout",
     "output_type": "stream",
     "text": [
      "kroY weN"
     ]
    }
   ],
   "source": [
    "# String\n",
    "muj_str = 'New York'\n",
    "\n",
    "# For loop\n",
    "for znak in reversed(muj_str):\n",
    "    print(znak, end='')"
   ]
  },
  {
   "cell_type": "code",
   "execution_count": 41,
   "metadata": {},
   "outputs": [
    {
     "name": "stdout",
     "output_type": "stream",
     "text": [
      "0\n",
      "2\n",
      "4\n",
      "6\n",
      "8\n",
      "10\n",
      "12\n",
      "14\n",
      "16\n",
      "18\n"
     ]
    }
   ],
   "source": [
    "for cislo in range(20):\n",
    "    if cislo % 2 == 0:\n",
    "        print(cislo)"
   ]
  },
  {
   "cell_type": "code",
   "execution_count": 42,
   "metadata": {
    "collapsed": true,
    "jupyter": {
     "outputs_hidden": true
    }
   },
   "outputs": [
    {
     "name": "stdout",
     "output_type": "stream",
     "text": [
      "0\n",
      "1\n",
      "2\n",
      "3\n",
      "4\n",
      "5\n",
      "6\n",
      "7\n",
      "8\n",
      "9\n",
      "10\n",
      "11\n",
      "12\n",
      "13\n",
      "14\n",
      "15\n",
      "16\n",
      "17\n",
      "18\n",
      "19\n",
      "20\n",
      "21\n",
      "22\n",
      "23\n",
      "24\n",
      "25\n",
      "26\n",
      "27\n",
      "28\n",
      "29\n",
      "30\n",
      "31\n",
      "32\n",
      "33\n",
      "34\n",
      "35\n",
      "36\n",
      "37\n",
      "38\n",
      "39\n",
      "40\n",
      "KONEC\n"
     ]
    }
   ],
   "source": [
    "for cislo in range(100):\n",
    "    if 40 < cislo < 60:\n",
    "        break\n",
    "    print(cislo)\n",
    "print('KONEC')"
   ]
  },
  {
   "cell_type": "code",
   "execution_count": 45,
   "metadata": {},
   "outputs": [
    {
     "name": "stdout",
     "output_type": "stream",
     "text": [
      "Písmena \"xz\" nejsou uvnitř stringu\n"
     ]
    }
   ],
   "source": [
    "# String\n",
    "muj_str = 'Python Loop'\n",
    "# For loop\n",
    "for pismeno in muj_str:\n",
    "    if pismeno in 'xz':\n",
    "        break\n",
    "print('Písmena \"xz\" nejsou uvnitř stringu')"
   ]
  },
  {
   "cell_type": "code",
   "execution_count": 50,
   "metadata": {},
   "outputs": [
    {
     "name": "stdout",
     "output_type": "stream",
     "text": [
      "1\n",
      "2\n",
      "Fizz\n",
      "4\n",
      "Buzz\n",
      "Fizz\n",
      "7\n",
      "8\n",
      "Fizz\n",
      "Buzz\n",
      "11\n",
      "Fizz\n",
      "13\n",
      "14\n",
      "FizzBuzz\n",
      "16\n",
      "17\n",
      "Fizz\n",
      "19\n",
      "Buzz\n",
      "Fizz\n",
      "22\n",
      "23\n",
      "Fizz\n",
      "Buzz\n",
      "26\n",
      "Fizz\n",
      "28\n",
      "29\n",
      "FizzBuzz\n",
      "31\n",
      "32\n",
      "Fizz\n",
      "34\n",
      "Buzz\n",
      "Fizz\n",
      "37\n",
      "38\n",
      "Fizz\n",
      "Buzz\n",
      "41\n",
      "Fizz\n",
      "43\n",
      "44\n",
      "FizzBuzz\n",
      "46\n",
      "47\n",
      "Fizz\n",
      "49\n",
      "Buzz\n",
      "Fizz\n",
      "52\n",
      "53\n",
      "Fizz\n",
      "Buzz\n",
      "56\n",
      "Fizz\n",
      "58\n",
      "59\n",
      "FizzBuzz\n",
      "61\n",
      "62\n",
      "Fizz\n",
      "64\n",
      "Buzz\n",
      "Fizz\n",
      "67\n",
      "68\n",
      "Fizz\n",
      "Buzz\n",
      "71\n",
      "Fizz\n",
      "73\n",
      "74\n",
      "FizzBuzz\n",
      "76\n",
      "77\n",
      "Fizz\n",
      "79\n",
      "Buzz\n",
      "Fizz\n",
      "82\n",
      "83\n",
      "Fizz\n",
      "Buzz\n",
      "86\n",
      "Fizz\n",
      "88\n",
      "89\n",
      "FizzBuzz\n",
      "91\n",
      "92\n",
      "Fizz\n",
      "94\n",
      "Buzz\n",
      "Fizz\n",
      "97\n",
      "98\n",
      "Fizz\n",
      "Buzz\n"
     ]
    }
   ],
   "source": [
    "for num in range(1,101):\n",
    "    if num % 3 == 0 and num % 5 == 0:\n",
    "        print(\"FizzBuzz\")\n",
    "    elif num % 3 == 0:\n",
    "        print(\"Fizz\")\n",
    "    elif num % 5 == 0:\n",
    "        print(\"Buzz\")\n",
    "    else:\n",
    "        print(num)"
   ]
  }
 ],
 "metadata": {
  "kernelspec": {
   "display_name": "Python 3",
   "language": "python",
   "name": "python3"
  },
  "language_info": {
   "codemirror_mode": {
    "name": "ipython",
    "version": 3
   },
   "file_extension": ".py",
   "mimetype": "text/x-python",
   "name": "python",
   "nbconvert_exporter": "python",
   "pygments_lexer": "ipython3",
   "version": "3.8.0"
  }
 },
 "nbformat": 4,
 "nbformat_minor": 4
}
