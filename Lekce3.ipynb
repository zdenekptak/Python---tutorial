{
 "cells": [
  {
   "cell_type": "code",
   "execution_count": 7,
   "metadata": {},
   "outputs": [
    {
     "name": "stdout",
     "output_type": "stream",
     "text": [
      "32 ['jméno']\n"
     ]
    }
   ],
   "source": [
    "muj_slovnik = {'jméno' : 'John', 'věk': 32}\n",
    "print(muj_slovnik['věk'],['jméno'])"
   ]
  },
  {
   "cell_type": "code",
   "execution_count": 8,
   "metadata": {},
   "outputs": [
    {
     "data": {
      "text/plain": [
       "3"
      ]
     },
     "execution_count": 8,
     "metadata": {},
     "output_type": "execute_result"
    }
   ],
   "source": [
    "muj_slovnik = {'sirka' : [3,4,7],'delka': [3,4,7], 'vyska': [3,4,7]}\n",
    "muj_slovnik['sirka'][0]\n"
   ]
  },
  {
   "cell_type": "code",
   "execution_count": 10,
   "metadata": {},
   "outputs": [
    {
     "data": {
      "text/plain": [
       "{'klic1': 'hodnota1', 'klic2': 'hodnota2'}"
      ]
     },
     "execution_count": 10,
     "metadata": {},
     "output_type": "execute_result"
    }
   ],
   "source": [
    "slovnik = dict(klic1 = 'hodnota1', klic2 = 'hodnota2')\n",
    "slovnik"
   ]
  },
  {
   "cell_type": "code",
   "execution_count": 41,
   "metadata": {},
   "outputs": [
    {
     "name": "stdout",
     "output_type": "stream",
     "text": [
      "{'skvělý': 'magnificus', 'jednoduchý': 'enucleatus', 'užitečný': 'proficuus'}\n",
      "Překlad slova skvělý je magnificus.\n",
      "Překlad slova jednoduchý je enucleatus.\n",
      "Překlad slova užitečný je proficuus.\n"
     ]
    }
   ],
   "source": [
    "# Slovnik\n",
    "slovnik = {'skvělý' : 'magnificus', 'jednoduchý' : 'enucleatus', 'užitečný' : 'proficuus'}\n",
    "\n",
    "print(slovnik)\n",
    "# Vypisujeme preklady\n",
    "print(f'Překlad slova skvělý je {slovnik[\"skvělý\"]}.')\n",
    "print(f'Překlad slova jednoduchý je {slovnik[\"jednoduchý\"]}.')\n",
    "print(f'Překlad slova užitečný je {slovnik[\"užitečný\"]}.')"
   ]
  },
  {
   "cell_type": "code",
   "execution_count": 26,
   "metadata": {},
   "outputs": [
    {
     "name": "stdout",
     "output_type": "stream",
     "text": [
      "{'krajta': 'python', 'jazyk': 'language', 'had': 'snake', 'hadice': 'hose'}\n"
     ]
    }
   ],
   "source": [
    "# Slovnik\n",
    "slovnik = {'krajta' : 'pthn', 'jazyk' : 'language', 'had' : 'snake'}\n",
    "\n",
    "# Uprav chybu\n",
    "slovnik['krajta'] = \"python\"\n",
    "\n",
    "# Pridej novou vec\n",
    "slovnik['hadice'] = 'hose'\n",
    "\n",
    "# Vypis slovnik\n",
    "print(slovnik)\n"
   ]
  },
  {
   "cell_type": "code",
   "execution_count": 24,
   "metadata": {},
   "outputs": [
    {
     "name": "stdout",
     "output_type": "stream",
     "text": [
      "{}\n",
      "<class 'dict'>\n",
      "<class 'set'>\n"
     ]
    }
   ],
   "source": [
    "#slovnik\n",
    "slovnik = { 'had' : 'serpens', 'jazyk' : 'lingua'}\n",
    "\n",
    "# Smaz pary\n",
    "del slovnik['had']\n",
    "del slovnik['jazyk']\n",
    "\n",
    "# Vypis promennou slovnik a jeji typ\n",
    "print(slovnik)\n",
    "print(type(slovnik))\n",
    "\n",
    "\n",
    "# Pridame - pouze hodnoty - mezi slozene zavorky - NOVINKA\n",
    "slovnik = {'had', 'jazyk'}\n",
    "\n",
    "# Znovu vypis typ promenne slovnik\n",
    "print(type(slovnik))"
   ]
  },
  {
   "cell_type": "code",
   "execution_count": 37,
   "metadata": {},
   "outputs": [
    {
     "name": "stdout",
     "output_type": "stream",
     "text": [
      "{'pondeli': None, 'utery': None, 'streda': None, 'ctvrtek': None, 'patek': None, 'sobota': None, 'nedele': None}\n",
      "python\n",
      "dict_keys(['krajta', 'jazyk', 'had'])\n"
     ]
    },
    {
     "data": {
      "text/plain": [
       "dict_items([('krajta', 'python'), ('jazyk', 'language'), ('had', 'snake')])"
      ]
     },
     "execution_count": 37,
     "metadata": {},
     "output_type": "execute_result"
    }
   ],
   "source": [
    "dictionary = {}\n",
    "slovnik = {'krajta' : 'python', 'jazyk' : 'language', 'had' : 'snake'}\n",
    "tyden = [\"pondeli\", \"utery\", \"streda\", \"ctvrtek\", \"patek\", \"sobota\", \"nedele\"]\n",
    "print(dictionary.fromkeys(tyden))\n",
    "print(slovnik.get('krajta'))\n",
    "print(slovnik.keys())\n",
    "slovnik.items()"
   ]
  },
  {
   "cell_type": "code",
   "execution_count": 43,
   "metadata": {},
   "outputs": [
    {
     "name": "stdout",
     "output_type": "stream",
     "text": [
      "{'chléb', 'paprika', 'rýže', 'čokoláda'}\n"
     ]
    }
   ],
   "source": [
    "# Nakupni seznam v listu\n",
    "nakupni_seznam = ['čokoláda', 'chléb', 'paprika', 'rýže', 'čokoláda']\n",
    "# Převod listu na set\n",
    "nakupni_seznam = set(nakupni_seznam)\n",
    "# Tisk nakupniho seznamu\n",
    "print(nakupni_seznam)"
   ]
  },
  {
   "cell_type": "code",
   "execution_count": 44,
   "metadata": {},
   "outputs": [
    {
     "data": {
      "text/plain": [
       "{1, 2, 3, 4}"
      ]
     },
     "execution_count": 44,
     "metadata": {},
     "output_type": "execute_result"
    }
   ],
   "source": [
    "#Set\n",
    "muj_set = {1,2,3,4,3,2}\n",
    "\n",
    "#Vypis set\n",
    "muj_set"
   ]
  },
  {
   "cell_type": "code",
   "execution_count": 46,
   "metadata": {},
   "outputs": [
    {
     "name": "stdout",
     "output_type": "stream",
     "text": [
      "{1, 2, 3}\n"
     ]
    }
   ],
   "source": [
    "#List\n",
    "muj_list = [1, 2, 3]\n",
    "#Set\n",
    "muj_set = set(muj_list)\n",
    "#Vypis setu\n",
    "print(muj_set)"
   ]
  },
  {
   "cell_type": "code",
   "execution_count": 47,
   "metadata": {},
   "outputs": [
    {
     "data": {
      "text/plain": [
       "{1, 2, 3, 4}"
      ]
     },
     "execution_count": 47,
     "metadata": {},
     "output_type": "execute_result"
    }
   ],
   "source": [
    "#Set\n",
    "muj_set = {1, 2, 3}\n",
    "\n",
    "#Pridani hodnoty\n",
    "muj_set.add(4)\n",
    "\n",
    "#Vypis set\n",
    "muj_set"
   ]
  },
  {
   "cell_type": "code",
   "execution_count": 48,
   "metadata": {},
   "outputs": [
    {
     "name": "stdout",
     "output_type": "stream",
     "text": [
      "{1, 2, 3, 4, 5, 6}\n"
     ]
    }
   ],
   "source": [
    "#Set\n",
    "muj_set = {1,2,3}\n",
    "#List\n",
    "muj_list = [4, 5, 6]\n",
    "#Pridani\n",
    "muj_set.update(muj_list)\n",
    "#Vypis setu\n",
    "print(muj_set)"
   ]
  },
  {
   "cell_type": "code",
   "execution_count": 49,
   "metadata": {},
   "outputs": [
    {
     "name": "stdout",
     "output_type": "stream",
     "text": [
      "{1}\n"
     ]
    }
   ],
   "source": [
    "#Set\n",
    "muj_set = {1,2,3}\n",
    "#Odstraneni\n",
    "muj_set.remove(3)\n",
    "muj_set.discard(2)\n",
    "#Vypis setu\n",
    "print(muj_set)\n"
   ]
  },
  {
   "cell_type": "code",
   "execution_count": 50,
   "metadata": {},
   "outputs": [
    {
     "data": {
      "text/plain": [
       "{'H'}"
      ]
     },
     "execution_count": 50,
     "metadata": {},
     "output_type": "execute_result"
    }
   ],
   "source": [
    "x = set('Hello') - set('Yellow') - set('Fellow')\n",
    "x"
   ]
  },
  {
   "cell_type": "code",
   "execution_count": 51,
   "metadata": {},
   "outputs": [
    {
     "data": {
      "text/plain": [
       "{'F', 'H', 'Y', 'e', 'l', 'o', 'w'}"
      ]
     },
     "execution_count": 51,
     "metadata": {},
     "output_type": "execute_result"
    }
   ],
   "source": [
    "x = set('Hello') | set('Yellow') | set('Fellow')\n",
    "x"
   ]
  },
  {
   "cell_type": "code",
   "execution_count": 52,
   "metadata": {},
   "outputs": [
    {
     "data": {
      "text/plain": [
       "True"
      ]
     },
     "execution_count": 52,
     "metadata": {},
     "output_type": "execute_result"
    }
   ],
   "source": [
    "#List\n",
    "ovoce = ['jablko', 'hruska', 'broskev']\n",
    "#Membership test\n",
    "'jablko' in ovoce"
   ]
  },
  {
   "cell_type": "code",
   "execution_count": 55,
   "metadata": {},
   "outputs": [
    {
     "name": "stdout",
     "output_type": "stream",
     "text": [
      "{'id123': {'jmeno': 'Thomas', 'vek': 45, 'zeme': 'Czechia', 'mesto': 'Brno'}, 'id124': {'jmeno': 'Daniel', 'vek': 34, 'zeme': 'Czechia', 'mesto': 'Prague'}, 'id125': {'jmeno': 'Eva', 'vek': 43, 'zeme': 'Czechia', 'mesto': 'Olomouc'}, 'id126': {}}\n"
     ]
    }
   ],
   "source": [
    "databaze = {'id123': {},'id124': {},'id125': {},'id126': {}}\n",
    "PrvniSlovnik = {'jmeno': 'Thomas', 'vek': 45, 'zeme': 'Czechia', 'mesto': 'Brno'}\n",
    "DruhySlovnik = {'jmeno': 'Daniel', 'vek': 34, 'zeme': 'Czechia', 'mesto': 'Prague'}\n",
    "TretiSlovnik = {'jmeno': 'Eva', 'vek': 43, 'zeme': 'Czechia', 'mesto': 'Olomouc'}\n",
    "databaze.update(id123 = PrvniSlovnik)\n",
    "databaze.update(id124 = DruhySlovnik)\n",
    "databaze.update(id125 = TretiSlovnik)\n",
    "print(databaze)"
   ]
  },
  {
   "cell_type": "code",
   "execution_count": 4,
   "metadata": {},
   "outputs": [
    {
     "name": "stdin",
     "output_type": "stream",
     "text": [
      "Zadej uzivatelske jmeno: sdfg\n",
      "Zadej heslo:  fsd\n"
     ]
    },
    {
     "name": "stdout",
     "output_type": "stream",
     "text": [
      "Heslo, nebo uživatelské jméno je špatně!\n"
     ]
    }
   ],
   "source": [
    "# Nas slovnik\n",
    "data = {\n",
    "\t'uzivatel1': 'heslo',\n",
    "\t'Marek': '1234',\n",
    "\t'Danko': 'qwert',\n",
    "\t\t\t}\n",
    "\n",
    "# Zeptej se na uzivatelske jmeno a heslo\n",
    "jmeno = input('Zadej uzivatelske jmeno:')\n",
    "heslo = input('Zadej heslo: ')\n",
    "\n",
    "\n",
    "# Podminkovy vyraz\n",
    "if data.get(jmeno) == heslo:\n",
    "\tprint('Povolení pokračovat!')\n",
    "\n",
    "elif data.get(jmeno) != heslo:\n",
    "\tprint('Heslo, nebo uživatelské jméno je špatně!')"
   ]
  },
  {
   "cell_type": "code",
   "execution_count": 31,
   "metadata": {},
   "outputs": [
    {
     "name": "stdout",
     "output_type": "stream",
     "text": [
      "{'věk': None, 'email': None}\n",
      "{'jméno': 'Zdenek', 'přijmení': 'Ptak', 'věk': 34, 'email': 'zptak@seznam.cz'}\n",
      "Paráda, metody slovníků ovládáš na jedničku, blahopřejeme!\n"
     ]
    }
   ],
   "source": [
    "# vytvor prazdne slovniky do slovníků\n",
    "muj_slovnik = {}\n",
    "novy_slovnik = {}\n",
    "\n",
    "# vloz klice 'jméno', 'přijmení' do 'muj_slovnik' a přidej libovolne hodnoty\n",
    "muj_slovnik['jméno'] = 'Zdenek'\n",
    "muj_slovnik['přijmení'] ='Ptak'\n",
    "\n",
    "# vytvor z tuple 'muj_tuple' slovnik do slovniku 'novy_slovnik'\n",
    "muj_tuple = 'věk', 'email'\n",
    "novy_slovnik = novy_slovnik.fromkeys(muj_tuple)\n",
    "print(novy_slovnik)\n",
    "# dopln muj_slovnik o novy_slovnik\n",
    "muj_slovnik.update(novy_slovnik)\n",
    "\n",
    "# vypln klice 'věk' a 'mail'\n",
    "muj_slovnik['věk'] = 34\n",
    "muj_slovnik['email'] = 'zptak@seznam.cz'\n",
    "print(muj_slovnik)\n",
    "# TADY NIC NEPIŠ!! Slouží pro kontrolu :)\n",
    "if (len(muj_slovnik) + 1) % 5 == 0 and '@' in muj_slovnik['email']:\n",
    "\tprint('Paráda, metody slovníků ovládáš na jedničku, blahopřejeme!')\n",
    "else:\n",
    "\tprint('Bohužel jsi někde udělal chybku :(\\nPodívej se ještě jednou na tabulku s metodami.\\n\\npozn. Obsahuje tvůj email \"@\"?')"
   ]
  },
  {
   "cell_type": "code",
   "execution_count": 47,
   "metadata": {},
   "outputs": [
    {
     "name": "stdout",
     "output_type": "stream",
     "text": [
      "David\n",
      "Skvělá práce! Zvládl jsi jak naši Challenge, tak procvičení celkově!\n"
     ]
    }
   ],
   "source": [
    "# slovniky\n",
    "slovnik01 = {'jmeno': 'David', 'prijmeni': 'Novak', 'vek': 33}\n",
    "slovnik02 = {'pismena': ['a', 'b', 'c', 'd'], 'cisla': [1,2,3,4,5]}\n",
    "slovnik03 = {'zamestnanci': {'id01': 'Marek', 'id02': 'Matous', 'id03': 'Anna'}, 'adresy': {'id01': 'Brno', 'id02': 'Praha', 'id03': 'Praha'}}\n",
    "print(slovnik01['jmeno'])\n",
    "# ziskej klice i hodnoty\n",
    "klice_hodnoty = slovnik01.items()\n",
    "\n",
    "# ziskej klice\n",
    "klice = slovnik02.keys()\n",
    "\n",
    "# ziskej hodnoty\n",
    "hodnoty = slovnik03.values()\n",
    "\n",
    "# VYZVA\n",
    "# ziskej hodnoty z vnitrniho slovniku\n",
    "vyzva = slovnik03['zamestnanci'].values()\n",
    "\n",
    "\n",
    "# ZDE NIC NEPIŠ. Slouží pouze pro kontrolu :)\n",
    "if len(klice_hodnoty) == 3 and len(klice) == len(hodnoty) and (int(len(vyzva)))%3 == 0:\n",
    "\tprint('Skvělá práce! Zvládl jsi jak naši Challenge, tak procvičení celkově!')\n",
    "elif len(klice_hodnoty) == 3 and len(klice) == len(hodnoty) or (int(len(vyzva)))%3 == 0:\n",
    "\tprint('Dobrá práce! Ještě v tom jsou chybky, ale je s čím pracovat!')\n",
    "else:\n",
    "\tprint('Bohužel :(\\nMrkni se na metody ještě jednou a pak zkus úlohu znovu.')"
   ]
  },
  {
   "cell_type": "code",
   "execution_count": 57,
   "metadata": {},
   "outputs": [
    {
     "name": "stdout",
     "output_type": "stream",
     "text": [
      "{'Y', 'r', 'k', 'o', 'e'}\n",
      "{'w', 'N', ' '}\n",
      "{'w', 's', 'h', ' ', 'i', 'N'}\n",
      "{'w', 's', 'Y', 'h', 'r', ' ', 'i', 'k', 'o', 'e', 'N'}\n"
     ]
    }
   ],
   "source": [
    "# Prirazeni promennych\n",
    "str1 = 'New York'\n",
    "str2 = 'Yorkshire'\n",
    "\n",
    "# Najde spolecne prvky\n",
    "spol = set(str1) & set(str2)\n",
    "print(spol)\n",
    "# Najde unikatni prvky\n",
    "uniq = set(str1) - set(str2)\n",
    "print(uniq)\n",
    "\n",
    "# Najde nesdilene prvky\n",
    "nesd = set(str1) ^ set(str2)\n",
    "print(nesd)\n",
    "\n",
    "# Najde vsechny prvky\n",
    "vse = set(str1) | set(str2)\n",
    "print(vse)\n",
    "\n",
    "# Vypis vsechno"
   ]
  }
 ],
 "metadata": {
  "kernelspec": {
   "display_name": "Python 3",
   "language": "python",
   "name": "python3"
  },
  "language_info": {
   "codemirror_mode": {
    "name": "ipython",
    "version": 3
   },
   "file_extension": ".py",
   "mimetype": "text/x-python",
   "name": "python",
   "nbconvert_exporter": "python",
   "pygments_lexer": "ipython3",
   "version": "3.8.0"
  }
 },
 "nbformat": 4,
 "nbformat_minor": 4
}
