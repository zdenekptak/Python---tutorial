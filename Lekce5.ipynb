{
 "cells": [
  {
   "cell_type": "code",
   "execution_count": 3,
   "metadata": {},
   "outputs": [
    {
     "name": "stdout",
     "output_type": "stream",
     "text": [
      "Ahoj, nejprve vyber dve cisla! :)\n",
      "\n"
     ]
    },
    {
     "name": "stdin",
     "output_type": "stream",
     "text": [
      "Prosim zadajte prvni cislo:  5\n",
      "Prosim zadajte druhe cislo:  3\n",
      "\n",
      "------------------------\n",
      "Scitani:    \"+\",\n",
      "Odcitani:   \"-\",\n",
      "Nasobeni:   \"*\",\n",
      "Deleni:     \"/\",\n",
      "Ukonci:     \"off\",\n",
      "----------------------\n",
      "Vyber si operaci:  +\n"
     ]
    },
    {
     "name": "stdout",
     "output_type": "stream",
     "text": [
      "5 + 3 = 8\n"
     ]
    },
    {
     "name": "stdin",
     "output_type": "stream",
     "text": [
      "\n",
      "------------------------\n",
      "Scitani:    \"+\",\n",
      "Odcitani:   \"-\",\n",
      "Nasobeni:   \"*\",\n",
      "Deleni:     \"/\",\n",
      "Ukonci:     \"off\",\n",
      "----------------------\n",
      "Vyber si operaci:  off\n"
     ]
    }
   ],
   "source": [
    "# Pozdrav uživatele a umožni mu zapsat dvě vstupní proměnné\n",
    "print('Ahoj, nejprve vyber dve cisla! :)')\n",
    "print()\n",
    "number01 = int(input('Prosim zadajte prvni cislo: '))\n",
    "number02 = int(input('Prosim zadajte druhe cislo: '))\n",
    "\n",
    "# Zapiš nekonečnou smyčku\n",
    "mod = True\n",
    "while mod == True:\n",
    "\n",
    "\n",
    "# Vypiš jaké operace může uživatel provádět a možnost zapsat input()\n",
    "    operace = str(input('''\n",
    "------------------------\n",
    "Scitani:    \"+\",\n",
    "Odcitani:   \"-\",\n",
    "Nasobeni:   \"*\",\n",
    "Deleni:     \"/\",\n",
    "Ukonci:     \"off\",\n",
    "----------------------\n",
    "Vyber si operaci: '''))\n",
    "\n",
    "\n",
    "# Sem zapiš podmínky, které spojí tebou nabízené operace a následný print() výsledku\n",
    "    if operace =='+':\n",
    "        print(f'{number01} + {number02} = {number01+number02}')\n",
    "    elif operace == '-':\n",
    "        print(f'{number01} - {number02} = {number01-number02}')\n",
    "    elif operace == '*':\n",
    "        print(f'{number01} * {number02} = {number01*number02}')\n",
    "    elif operace == '/':\n",
    "        print(f'{number01} / {number02} = {number01/number02}')\n",
    "    else:\n",
    "        mod = False\n",
    "        "
   ]
  }
 ],
 "metadata": {
  "kernelspec": {
   "display_name": "Python 3",
   "language": "python",
   "name": "python3"
  },
  "language_info": {
   "codemirror_mode": {
    "name": "ipython",
    "version": 3
   },
   "file_extension": ".py",
   "mimetype": "text/x-python",
   "name": "python",
   "nbconvert_exporter": "python",
   "pygments_lexer": "ipython3",
   "version": "3.8.0"
  }
 },
 "nbformat": 4,
 "nbformat_minor": 4
}
