{
 "cells": [
  {
   "cell_type": "code",
   "execution_count": 4,
   "metadata": {},
   "outputs": [
    {
     "name": "stdout",
     "output_type": "stream",
     "text": [
      "80kg se rovna: 176.0lb\n",
      "54km se rovna: 33.48mile\n",
      "5l se rovna: 1.3gal\n"
     ]
    }
   ],
   "source": [
    "# Prevodni pomery\n",
    "kg_lb = 2.20\n",
    "km_mile = 0.62\n",
    "l_gal = 0.26\n",
    "\n",
    "# Pocet jednotek, ktery ma byt preveden.\n",
    "kg = 80\n",
    "km = 54\n",
    "l = 5\n",
    "\n",
    "# Vypocty pro prevod\n",
    "lb = kg * kg_lb\n",
    "mile = km * km_mile\n",
    "gal = l * l_gal\n",
    "\n",
    "# Vysledne odpovedi\n",
    "print(f'{kg}kg se rovna: {lb}lb')\n",
    "print(f'{km}km se rovna: {mile}mile')\n",
    "print(f'{l}l se rovna: {gal}gal')\n"
   ]
  },
  {
   "cell_type": "code",
   "execution_count": 8,
   "metadata": {},
   "outputs": [
    {
     "name": "stdin",
     "output_type": "stream",
     "text": [
      "Zadej priplatek za vybavu (v tis.): 25\n",
      "Zadej priplatek za vybavu (v tis.): 150\n"
     ]
    },
    {
     "name": "stdout",
     "output_type": "stream",
     "text": [
      "Cena za dva mercedesy je: 300\n",
      "Cena za mercedes a rolls royce: 550\n",
      "Cena za dva rolls royce s priplatkem: 1100\n",
      "Cena za mercedes s priplatkem: 175\n"
     ]
    }
   ],
   "source": [
    "# Cenik\n",
    "mercedes    = 150\n",
    "rolls_royce = 400\n",
    "priplatkova_vybava_M = int(input(\"Zadej priplatek za vybavu (v tis.):\"))\n",
    "priplatkova_vybava_R = int(input(\"Zadej priplatek za vybavu (v tis.):\"))\n",
    "\n",
    "print(f\"Cena za dva mercedesy je: {2 * mercedes}\")\n",
    "print(f\"Cena za mercedes a rolls royce: {rolls_royce + mercedes}\")\n",
    "print(f\"Cena za dva rolls royce s priplatkem: {(2 * rolls_royce) + (2 * priplatkova_vybava_R)}\")\n",
    "print(f\"Cena za mercedes s priplatkem: {mercedes + priplatkova_vybava_M}\")"
   ]
  },
  {
   "cell_type": "code",
   "execution_count": 5,
   "metadata": {},
   "outputs": [
    {
     "name": "stdout",
     "output_type": "stream",
     "text": [
      "index\n",
      "ovani\n",
      "ievi\n",
      "Prních pět písmen: index\n"
     ]
    }
   ],
   "source": [
    "# Extrahuj a vytiskni prvních 5 písmen\n",
    "slovo=\"indexovani\"\n",
    "print(slovo[0:5])\n",
    "\n",
    "# Extrahuj a vytiskni posledních 5 písmen\n",
    "print(slovo[5:])\n",
    "\n",
    "# Extrahuj a vytiskni každé 3 písmeno\n",
    "print(slovo[::3])\n",
    "\n",
    "print('Prních pět písmen: ' + slovo[:5])\n"
   ]
  },
  {
   "cell_type": "code",
   "execution_count": 6,
   "metadata": {},
   "outputs": [
    {
     "name": "stdin",
     "output_type": "stream",
     "text": [
      "Zadej jmeno:  uf\n"
     ]
    },
    {
     "name": "stdout",
     "output_type": "stream",
     "text": [
      "Ukladam jmeno 'uf' do jmeno...\n"
     ]
    },
    {
     "name": "stdin",
     "output_type": "stream",
     "text": [
      "Zadej prijmeni:  gkgjh\n"
     ]
    },
    {
     "name": "stdout",
     "output_type": "stream",
     "text": [
      "Ukladam prijmeni 'gkgjh' do prijmeni...\n",
      "Cele jmeno je: uf gkgjh\n",
      "8\n",
      "========\n",
      "uf gkgjh\n",
      "========\n"
     ]
    }
   ],
   "source": [
    "# Ukladani jmena\n",
    "jmeno=input(\"Zadej jmeno: \")\n",
    "\n",
    "# Tisk jmena\n",
    "print(f\"Ukladam jmeno '{jmeno}' do jmeno...\")\n",
    "\n",
    "# Ukladani prijmeni\n",
    "prijmeni=input(\"Zadej prijmeni: \")\n",
    "\n",
    "# Tisk prijmeni\n",
    "print(f\"Ukladam prijmeni '{prijmeni}' do prijmeni...\")\n",
    "\n",
    "# Vytvoreni a tisk promenne cele_jmeno\n",
    "cele_jmeno = jmeno + \" \" + prijmeni\n",
    "print(f\"Cele jmeno je: {cele_jmeno}\")\n",
    "# Vytvoreni a tisk promenne delka_jmena\n",
    "delka_jmena = len(cele_jmeno)\n",
    "print(delka_jmena)\n",
    "\n",
    "# Tisk ohranicene promenne cele_jmeno\n",
    "print(delka_jmena * '=')\n",
    "print(cele_jmeno)\n",
    "print(delka_jmena * '=')"
   ]
  },
  {
   "cell_type": "code",
   "execution_count": 3,
   "metadata": {},
   "outputs": [
    {
     "name": "stdout",
     "output_type": "stream",
     "text": [
      "Kandidáti na začátku: []\n",
      "Zaměstnanci na začátku: ['František', 'Anna', 'Jakub', 'Klára']\n",
      "Nová jména přidána do kandidati: ['Bruno', 'Anežka']\n",
      "Nová jména vložena do zamestnanci ['František', 'Bruno', 'Anna', 'Jakub', 'Klára']\n"
     ]
    }
   ],
   "source": [
    "# Vytvoreni kandidatu\n",
    "kandidati = []\n",
    "\n",
    "# Tisk kandidatu na zacatku\n",
    "print(f\"Kandidáti na začátku: {kandidati}\")\n",
    "\n",
    "# Vytvoreni zamestnancu\n",
    "zamestnanci = ['František', 'Anna', 'Jakub', 'Klára']\n",
    "\n",
    "# Tisk zamestnancu na zacatku\n",
    "print(f\"Zaměstnanci na začátku: {zamestnanci}\")\n",
    "\n",
    "# Pridani novych kandidatu\n",
    "kandidati.append('Bruno')\n",
    "kandidati.append('Anežka')\n",
    "# Tisk novych kandidatu\n",
    "print(f\"Nová jména přidána do kandidati: {kandidati}\")\n",
    "\n",
    "# Vlozeni jmena\n",
    "zamestnanci.insert(1, kandidati[0])\n",
    "\n",
    "# Tisk listu zamestnanci po vlozeni noveho jmena\n",
    "print(f\"Nová jména vložena do zamestnanci {zamestnanci}\")"
   ]
  }
 ],
 "metadata": {
  "kernelspec": {
   "display_name": "Python 3",
   "language": "python",
   "name": "python3"
  },
  "language_info": {
   "codemirror_mode": {
    "name": "ipython",
    "version": 3
   },
   "file_extension": ".py",
   "mimetype": "text/x-python",
   "name": "python",
   "nbconvert_exporter": "python",
   "pygments_lexer": "ipython3",
   "version": "3.7.4"
  }
 },
 "nbformat": 4,
 "nbformat_minor": 4
}
