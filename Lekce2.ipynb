{
 "cells": [
  {
   "cell_type": "code",
   "execution_count": 4,
   "metadata": {},
   "outputs": [
    {
     "name": "stdin",
     "output_type": "stream",
     "text": [
      "Zadej slovo oko\n"
     ]
    },
    {
     "name": "stdout",
     "output_type": "stream",
     "text": [
      "Slovo oko je palidorm.\n"
     ]
    }
   ],
   "source": [
    "# Vstup uzivatele\n",
    "slovo = input(\"Zadej slovo\")\n",
    "\n",
    "# Zkontroluj a odpovez, zda se jedna o palindrom\n",
    "if slovo == slovo[::-1]:\n",
    "    print(f\"Slovo {slovo} je palidorm.\")\n",
    "else:\n",
    "    print(f\"Slovo {slovo} neni palidorm.\")"
   ]
  },
  {
   "cell_type": "code",
   "execution_count": 15,
   "metadata": {},
   "outputs": [
    {
     "name": "stdin",
     "output_type": "stream",
     "text": [
      "Jakým písmenem začíná jméno pátého dne v týdnu?: p\n"
     ]
    },
    {
     "name": "stdout",
     "output_type": "stream",
     "text": [
      "True\n"
     ]
    }
   ],
   "source": [
    "# Vytvor list 'tyden' a uloz dny v tydnu v podobe stringu (vse malymi pismeny!)\n",
    "tyden = [\"pondeli\", \"utery\", \"streda\", \"ctvrtek\", \"patek\", \"sobota\", \"nedele\"]\n",
    "\n",
    "# Ziskej tip uzivatele\n",
    "tip_uzivatele = input(\"Jakým písmenem začíná jméno pátého dne v týdnu?:\")\n",
    "\n",
    "# Ziskej prvni pismeno z 'pátek' 3 a Vytiskni porovnani promennych\n",
    "if tip_uzivatele == tyden[4][0]:\n",
    "    print(True)\n",
    "else:\n",
    "    print(False)"
   ]
  },
  {
   "cell_type": "markdown",
   "metadata": {},
   "source": [
    "### BMI kalkulacka"
   ]
  },
  {
   "cell_type": "code",
   "execution_count": 27,
   "metadata": {},
   "outputs": [
    {
     "name": "stdout",
     "output_type": "stream",
     "text": [
      "Martin ma bmi 31.249999999999993 coz spada do kategorie 'Obezita'.\n"
     ]
    }
   ],
   "source": [
    "# Vstupni hodnoty\n",
    "jmeno = \"Martin\"\n",
    "vaha = 80\n",
    "vyska = 160\n",
    "\n",
    "# Vypocet\n",
    "bmi = vaha/(vyska/100)**2\n",
    "\n",
    "# Vytvor promennou kategorie a prirad ji pomoci podminek\n",
    "kategorie = ''\n",
    "if bmi > 40:\n",
    "    kategorie = 'Tezka obezita'\n",
    "elif 30 < bmi <= 40:\n",
    "    kategorie = 'Obezita'\n",
    "elif 25 < bmi <= 30:\n",
    "    kategorie = 'Mirna nadvaha'\n",
    "elif 18.5 < bmi <= 25:\n",
    "    kategorie = 'Zdrava vaha'\n",
    "elif bmi <= 18.5:\n",
    "    kategorie = 'Podvyziva'\n",
    "\n",
    "# Vytiskni odpoved s vysledkem\n",
    "print(f\"{jmeno} ma bmi {bmi} coz spada do kategorie '{kategorie}'.\")"
   ]
  },
  {
   "cell_type": "code",
   "execution_count": 35,
   "metadata": {},
   "outputs": [
    {
     "name": "stdin",
     "output_type": "stream",
     "text": [
      "Zadej slovo: nkbgfvjvh\n"
     ]
    },
    {
     "name": "stdout",
     "output_type": "stream",
     "text": [
      "\"nkbgfvjvh\" ma 9 znaku\n"
     ]
    }
   ],
   "source": [
    "# Zadani slova\n",
    "slovo = input('Zadej slovo:')\n",
    "\n",
    "# Zjisteni delky\n",
    "delka_slova = len(slovo)\n",
    "\n",
    "# Podminka a tisk delky slova\n",
    "if delka_slova > 4:\n",
    "    print(f'\"{slovo}\" ma {delka_slova} znaku')\n",
    "else:\n",
    "    print(f'\"{slovo}\" ma {delka_slova} znaky')"
   ]
  },
  {
   "cell_type": "markdown",
   "metadata": {},
   "source": [
    "# Kamen, nuzky, papir"
   ]
  },
  {
   "cell_type": "code",
   "execution_count": 15,
   "metadata": {},
   "outputs": [
    {
     "name": "stdin",
     "output_type": "stream",
     "text": [
      "Zadej kamen, nuzky nebo papir: papir\n"
     ]
    },
    {
     "name": "stdout",
     "output_type": "stream",
     "text": [
      "Hráč: papir\n",
      "Počítač: papir\n",
      "nerozhodne\n"
     ]
    }
   ],
   "source": [
    "# Naimportuj modul random\n",
    "import random\n",
    "# Vytvorte list moznosti\n",
    "moznosti = ['kamen', 'nuzky', 'papir']\n",
    "# Vytvorte promennou hrac\n",
    "hrac = input('Zadej kamen, nuzky nebo papir:')\n",
    "# Vytvorte promennou pocitac\n",
    "pocitac = random.choice(moznosti)\n",
    "# Vytisknete volbu cloveka a pocitace\n",
    "print(\"Hráč:\", hrac)\n",
    "print(\"Počítač:\", pocitac)\n",
    "# Vytvorte podminku, zda hrac zvolil platnou volbu\n",
    "if hrac in moznosti:\n",
    "    # Podminky zahrnujici ruzne kombinace voleb hrace a pocitace a tisk vysledku\n",
    "    if hrac == pocitac:\n",
    "        print('nerozhodne')\n",
    "    elif hrac == 'kamen' and pocitac == 'papir':\n",
    "        print('prohral si')\n",
    "    elif hrac == 'papir' and pocitac == 'nuzky':\n",
    "        print('prohral si')\n",
    "    elif hrac == 'nuzky' and pocitac == 'kamen':\n",
    "        print('prohral si')        \n",
    "    else:\n",
    "        print('vyhral ')\n",
    "else:\n",
    "    print('zadal jsi spatnou hodnotu')"
   ]
  }
 ],
 "metadata": {
  "kernelspec": {
   "display_name": "Python 3",
   "language": "python",
   "name": "python3"
  },
  "language_info": {
   "codemirror_mode": {
    "name": "ipython",
    "version": 3
   },
   "file_extension": ".py",
   "mimetype": "text/x-python",
   "name": "python",
   "nbconvert_exporter": "python",
   "pygments_lexer": "ipython3",
   "version": "3.7.4"
  }
 },
 "nbformat": 4,
 "nbformat_minor": 4
}
